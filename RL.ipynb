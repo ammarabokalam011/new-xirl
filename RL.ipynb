{
 "cells": [
  {
   "cell_type": "code",
   "execution_count": null,
   "id": "daed7512-7d9a-48ff-bcfb-9f9e80d37d89",
   "metadata": {},
   "outputs": [],
   "source": [
    "import os.path as osp\n",
    "import subprocess\n",
    "import os\n",
    "from configs.constants import XMAGICAL_EMBODIMENT_TO_ENV_NAME\n",
    "\n",
    "from absl import app\n",
    "from absl import logging\n",
    "from configs.constants import ALGORITHMS\n",
    "from configs.constants import EMBODIMENTS\n",
    "from torchkit.experiment import string_from_kwargs\n",
    "from torchkit.experiment import unique_id\n",
    "import yaml\n",
    "import random\n"
   ]
  },
  {
   "cell_type": "code",
   "execution_count": null,
   "id": "7f3ed4f3-bf9f-4f80-85b4-c5f0aa00839a",
   "metadata": {},
   "outputs": [],
   "source": [
    "seeds = [0, 5]\n",
    "device = \"cuda:0\"\n",
    "\n",
    "experiment_name = '/home/user/xirl/exp/exp864/'\n",
    "embodiment = 'longstick'\n",
    "\n",
    "with open(osp.join(experiment_name, \"config.yaml\"), \"r\") as fp:\n",
    "    kwargs = yaml.load(fp, Loader=yaml.FullLoader)\n",
    "\n",
    "if kwargs[\"algorithm\"] == \"goal_classifier\":\n",
    "    reward_type = \"goal_classifier\"\n",
    "else:\n",
    "    reward_type = \"distance_to_goal\"\n",
    "\n",
    "# Map the embodiment to the x-MAGICAL env name.\n",
    "env_name = XMAGICAL_EMBODIMENT_TO_ENV_NAME[embodiment]\n",
    "\n",
    "logging.info(\"Experiment name: %s\", experiment_name)"
   ]
  },
  {
   "cell_type": "code",
   "execution_count": null,
   "id": "8f970db6-f868-44ea-9564-889901d19a83",
   "metadata": {},
   "outputs": [],
   "source": [
    "# Execute each seed in parallel.\n",
    "procs = []\n",
    "for seed in range(*list(map(int, seeds))):\n",
    "    procs.append(\n",
    "        subprocess.Popen([  # pylint: disable=consider-using-with\n",
    "            \"python\",\n",
    "            \"train_policy.py\",\n",
    "            \"--experiment_name\",\n",
    "            experiment_name,\n",
    "            \"--env_name\",\n",
    "            f\"{env_name}\",\n",
    "            \"--config\",\n",
    "            f\"configs/xmagical/rl/env_reward.py:{embodiment}\",\n",
    "            \"--config.reward_wrapper.pretrained_path\",\n",
    "            f\"{experiment_name}\",\n",
    "            \"--config.reward_wrapper.type\",\n",
    "            f\"{reward_type}\",\n",
    "            \"--seed\",\n",
    "            f\"{seed}\",\n",
    "            \"--device\",\n",
    "            f\"{device}\",\n",
    "            '--resume',\n",
    "        ]))\n",
    "\n",
    "# Wait for each seed to terminate.\n",
    "for p in procs:\n",
    "    p.wait()"
   ]
  }
 ],
 "metadata": {
  "kernelspec": {
   "display_name": "Python 3 (ipykernel)",
   "language": "python",
   "name": "python3"
  },
  "language_info": {
   "codemirror_mode": {
    "name": "ipython",
    "version": 3
   },
   "file_extension": ".py",
   "mimetype": "text/x-python",
   "name": "python",
   "nbconvert_exporter": "python",
   "pygments_lexer": "ipython3",
   "version": "3.11.9"
  }
 },
 "nbformat": 4,
 "nbformat_minor": 5
}
