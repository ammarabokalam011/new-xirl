{
 "cells": [
  {
   "cell_type": "code",
   "execution_count": 1,
   "id": "daed7512-7d9a-48ff-bcfb-9f9e80d37d89",
   "metadata": {},
   "outputs": [
    {
     "name": "stderr",
     "output_type": "stream",
     "text": [
      "2024-11-06 21:44:05.938256: E external/local_xla/xla/stream_executor/cuda/cuda_fft.cc:477] Unable to register cuFFT factory: Attempting to register factory for plugin cuFFT when one has already been registered\n",
      "WARNING: All log messages before absl::InitializeLog() is called are written to STDERR\n",
      "E0000 00:00:1730929445.961063    3405 cuda_dnn.cc:8310] Unable to register cuDNN factory: Attempting to register factory for plugin cuDNN when one has already been registered\n",
      "E0000 00:00:1730929445.968189    3405 cuda_blas.cc:1418] Unable to register cuBLAS factory: Attempting to register factory for plugin cuBLAS when one has already been registered\n",
      "2024-11-06 21:44:05.992917: I tensorflow/core/platform/cpu_feature_guard.cc:210] This TensorFlow binary is optimized to use available CPU instructions in performance-critical operations.\n",
      "To enable the following instructions: AVX2 FMA, in other operations, rebuild TensorFlow with the appropriate compiler flags.\n"
     ]
    }
   ],
   "source": [
    "import os.path as osp\n",
    "import subprocess\n",
    "import os\n",
    "from configs.constants import XMAGICAL_EMBODIMENT_TO_ENV_NAME\n",
    "\n",
    "from absl import app\n",
    "from absl import logging\n",
    "from configs.constants import ALGORITHMS\n",
    "from configs.constants import EMBODIMENTS\n",
    "from torchkit.experiment import string_from_kwargs\n",
    "from torchkit.experiment import unique_id\n",
    "import yaml\n",
    "import random\n"
   ]
  },
  {
   "cell_type": "code",
   "execution_count": 2,
   "id": "7f3ed4f3-bf9f-4f80-85b4-c5f0aa00839a",
   "metadata": {},
   "outputs": [
    {
     "ename": "FileNotFoundError",
     "evalue": "[Errno 2] No such file or directory: '/home/user/xirl/exp/exp284/metadata.yaml'",
     "output_type": "error",
     "traceback": [
      "\u001b[0;31m---------------------------------------------------------------------------\u001b[0m",
      "\u001b[0;31mFileNotFoundError\u001b[0m                         Traceback (most recent call last)",
      "Cell \u001b[0;32mIn[2], line 6\u001b[0m\n\u001b[1;32m      3\u001b[0m \u001b[38;5;66;03m# experiment_name = '/home/user/xirl/exp/exp602/'\u001b[39;00m\n\u001b[1;32m      4\u001b[0m experiment_name \u001b[38;5;241m=\u001b[39m \u001b[38;5;124m'\u001b[39m\u001b[38;5;124m/home/user/xirl/exp/exp284\u001b[39m\u001b[38;5;124m'\u001b[39m\n\u001b[0;32m----> 6\u001b[0m \u001b[38;5;28;01mwith\u001b[39;00m \u001b[38;5;28;43mopen\u001b[39;49m\u001b[43m(\u001b[49m\u001b[43mosp\u001b[49m\u001b[38;5;241;43m.\u001b[39;49m\u001b[43mjoin\u001b[49m\u001b[43m(\u001b[49m\u001b[43mexperiment_name\u001b[49m\u001b[43m,\u001b[49m\u001b[43m \u001b[49m\u001b[38;5;124;43m\"\u001b[39;49m\u001b[38;5;124;43mmetadata.yaml\u001b[39;49m\u001b[38;5;124;43m\"\u001b[39;49m\u001b[43m)\u001b[49m\u001b[43m,\u001b[49m\u001b[43m \u001b[49m\u001b[38;5;124;43m\"\u001b[39;49m\u001b[38;5;124;43mr\u001b[39;49m\u001b[38;5;124;43m\"\u001b[39;49m\u001b[43m)\u001b[49m \u001b[38;5;28;01mas\u001b[39;00m fp:\n\u001b[1;32m      7\u001b[0m     kwargs \u001b[38;5;241m=\u001b[39m yaml\u001b[38;5;241m.\u001b[39mload(fp, Loader\u001b[38;5;241m=\u001b[39myaml\u001b[38;5;241m.\u001b[39mFullLoader)\n\u001b[1;32m      9\u001b[0m \u001b[38;5;28;01mif\u001b[39;00m kwargs[\u001b[38;5;124m\"\u001b[39m\u001b[38;5;124malgo\u001b[39m\u001b[38;5;124m\"\u001b[39m] \u001b[38;5;241m==\u001b[39m \u001b[38;5;124m\"\u001b[39m\u001b[38;5;124mgoal_classifier\u001b[39m\u001b[38;5;124m\"\u001b[39m:\n",
      "File \u001b[0;32m~/mambaforge/envs/env/lib/python3.11/site-packages/IPython/core/interactiveshell.py:324\u001b[0m, in \u001b[0;36m_modified_open\u001b[0;34m(file, *args, **kwargs)\u001b[0m\n\u001b[1;32m    317\u001b[0m \u001b[38;5;28;01mif\u001b[39;00m file \u001b[38;5;129;01min\u001b[39;00m {\u001b[38;5;241m0\u001b[39m, \u001b[38;5;241m1\u001b[39m, \u001b[38;5;241m2\u001b[39m}:\n\u001b[1;32m    318\u001b[0m     \u001b[38;5;28;01mraise\u001b[39;00m \u001b[38;5;167;01mValueError\u001b[39;00m(\n\u001b[1;32m    319\u001b[0m         \u001b[38;5;124mf\u001b[39m\u001b[38;5;124m\"\u001b[39m\u001b[38;5;124mIPython won\u001b[39m\u001b[38;5;124m'\u001b[39m\u001b[38;5;124mt let you open fd=\u001b[39m\u001b[38;5;132;01m{\u001b[39;00mfile\u001b[38;5;132;01m}\u001b[39;00m\u001b[38;5;124m by default \u001b[39m\u001b[38;5;124m\"\u001b[39m\n\u001b[1;32m    320\u001b[0m         \u001b[38;5;124m\"\u001b[39m\u001b[38;5;124mas it is likely to crash IPython. If you know what you are doing, \u001b[39m\u001b[38;5;124m\"\u001b[39m\n\u001b[1;32m    321\u001b[0m         \u001b[38;5;124m\"\u001b[39m\u001b[38;5;124myou can use builtins\u001b[39m\u001b[38;5;124m'\u001b[39m\u001b[38;5;124m open.\u001b[39m\u001b[38;5;124m\"\u001b[39m\n\u001b[1;32m    322\u001b[0m     )\n\u001b[0;32m--> 324\u001b[0m \u001b[38;5;28;01mreturn\u001b[39;00m \u001b[43mio_open\u001b[49m\u001b[43m(\u001b[49m\u001b[43mfile\u001b[49m\u001b[43m,\u001b[49m\u001b[43m \u001b[49m\u001b[38;5;241;43m*\u001b[39;49m\u001b[43margs\u001b[49m\u001b[43m,\u001b[49m\u001b[43m \u001b[49m\u001b[38;5;241;43m*\u001b[39;49m\u001b[38;5;241;43m*\u001b[39;49m\u001b[43mkwargs\u001b[49m\u001b[43m)\u001b[49m\n",
      "\u001b[0;31mFileNotFoundError\u001b[0m: [Errno 2] No such file or directory: '/home/user/xirl/exp/exp284/metadata.yaml'"
     ]
    }
   ],
   "source": [
    "seeds = [0, 5]\n",
    "device = \"cuda:0\"\n",
    "# experiment_name = '/home/user/xirl/exp/exp602/'\n",
    "experiment_name = '/home/user/xirl/exp/exp284'\n",
    "\n",
    "with open(osp.join(experiment_name, \"metadata.yaml\"), \"r\") as fp:\n",
    "    kwargs = yaml.load(fp, Loader=yaml.FullLoader)\n",
    "\n",
    "if kwargs[\"algo\"] == \"goal_classifier\":\n",
    "    reward_type = \"goal_classifier\"\n",
    "else:\n",
    "    reward_type = \"distance_to_goal\"\n",
    "\n",
    "# Map the embodiment to the x-MAGICAL env name.\n",
    "env_name = XMAGICAL_EMBODIMENT_TO_ENV_NAME[kwargs[\"embodiment\"]]\n",
    "\n",
    "# Generate a unique experiment name.\n",
    "# experiment_name = string_from_kwargs(\n",
    "#   env_name=env_name,\n",
    "#   reward=\"learned\",\n",
    "#   reward_type=reward_type,\n",
    "#   mode=kwargs[\"mode\"],\n",
    "#   algo=kwargs[\"algo\"],\n",
    "#   uid=unique_id(),\n",
    "# )\n",
    "logging.info(\"Experiment name: %s\", experiment_name)\n",
    "\n",
    "# Execute each seed in parallel.\n",
    "procs = []\n",
    "for seed in range(*list(map(int, seeds))):\n",
    "    procs.append(\n",
    "        subprocess.Popen([  # pylint: disable=consider-using-with\n",
    "            \"python\",\n",
    "            \"train_policy.py\",\n",
    "            \"--experiment_name\",\n",
    "            experiment_name,\n",
    "            \"--env_name\",\n",
    "            f\"{env_name}\",\n",
    "            \"--config\",\n",
    "            f\"configs/xmagical/rl/env_reward.py:{kwargs['embodiment']}\",\n",
    "            \"--config.reward_wrapper.pretrained_path\",\n",
    "            f\"{experiment_name}\",\n",
    "            \"--config.reward_wrapper.type\",\n",
    "            f\"{reward_type}\",\n",
    "            \"--seed\",\n",
    "            f\"{seed}\",\n",
    "            \"--device\",\n",
    "            f\"{device}\",\n",
    "            '--resume',\n",
    "        ]))\n",
    "\n",
    "# Wait for each seed to terminate.\n",
    "for p in procs:\n",
    "    p.wait()\n"
   ]
  },
  {
   "cell_type": "code",
   "execution_count": null,
   "id": "c6d78612-66e7-4dbb-b29d-d37cc52bd1ff",
   "metadata": {},
   "outputs": [],
   "source": []
  }
 ],
 "metadata": {
  "kernelspec": {
   "display_name": "Python 3 (ipykernel)",
   "language": "python",
   "name": "python3"
  },
  "language_info": {
   "codemirror_mode": {
    "name": "ipython",
    "version": 3
   },
   "file_extension": ".py",
   "mimetype": "text/x-python",
   "name": "python",
   "nbconvert_exporter": "python",
   "pygments_lexer": "ipython3",
   "version": "3.11.9"
  }
 },
 "nbformat": 4,
 "nbformat_minor": 5
}
