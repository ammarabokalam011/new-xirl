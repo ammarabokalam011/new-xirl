{
 "cells": [
  {
   "cell_type": "markdown",
   "id": "5dfb5884-dc16-4970-86ba-3b7c5282c2d9",
   "metadata": {},
   "source": [
    "# coding=utf-8\n",
    "# Copyright 2024 The Google Research Authors.\n",
    "#\n",
    "# Licensed under the Apache License, Version 2.0 (the \"License\");\n",
    "# you may not use this file except in compliance with the License.\n",
    "# You may obtain a copy of the License at\n",
    "#\n",
    "#     http://www.apache.org/licenses/LICENSE-2.0\n",
    "#\n",
    "# Unless required by applicable law or agreed to in writing, software\n",
    "# distributed under the License is distributed on an \"AS IS\" BASIS,\n",
    "# WITHOUT WARRANTIES OR CONDITIONS OF ANY KIND, either express or implied.\n",
    "# See the License for the specific language governing permissions and\n",
    "# limitations under the License.\n",
    "\n",
    "\"\"\"X-MAGICAL cross-embodiment pretraining script.\"\"\"\n"
   ]
  },
  {
   "cell_type": "code",
   "execution_count": 1,
   "id": "d4243f40-b24b-4096-8c3e-c4499e136e7c",
   "metadata": {},
   "outputs": [
    {
     "name": "stderr",
     "output_type": "stream",
     "text": [
      "/home/user/mambaforge/envs/xirl/lib/python3.8/site-packages/tqdm/auto.py:21: TqdmWarning: IProgress not found. Please update jupyter and ipywidgets. See https://ipywidgets.readthedocs.io/en/stable/user_install.html\n",
      "  from .autonotebook import tqdm as notebook_tqdm\n"
     ]
    }
   ],
   "source": [
    "\n",
    "import os.path as osp\n",
    "import subprocess\n",
    "\n",
    "from absl import app\n",
    "from absl import logging\n",
    "from configs.constants import ALGORITHMS\n",
    "from configs.constants import EMBODIMENTS\n",
    "from torchkit.experiment import string_from_kwargs\n",
    "from torchkit.experiment import unique_id\n",
    "import yaml\n",
    "import random\n"
   ]
  },
  {
   "cell_type": "code",
   "execution_count": 2,
   "id": "4d8a5323-194a-4d7c-861b-ae5fa4df4f67",
   "metadata": {},
   "outputs": [],
   "source": [
    "\n",
    "# pylint: disable=logging-fstring-interpolation\n",
    "\n",
    "# Mapping from pretraining algorithm to config file.\n",
    "ALGO_TO_CONFIG = {\n",
    "    \"xirl\": \"configs/xmagical/pretraining/tcc.py\",\n",
    "    \"lifs\": \"configs/xmagical/pretraining/lifs.py\",\n",
    "    \"tcn\": \"configs/xmagical/pretraining/tcn.py\",\n",
    "    \"goal_classifier\": \"configs/xmagical/pretraining/classifier.py\",\n",
    "    \"raw_imagenet\": \"configs/xmagical/pretraining/imagenet.py\",\n",
    "}\n",
    "\n",
    "# We want to pretrain on the entire 1k demonstrations.\n",
    "MAX_DEMONSTRATIONS = -1\n"
   ]
  },
  {
   "cell_type": "code",
   "execution_count": 3,
   "id": "265c7d2b-92d3-4cc9-82d6-93171a86d76c",
   "metadata": {},
   "outputs": [],
   "source": [
    "embodiment = \"shortstick\"\n",
    "\n",
    "algo = \"xirl\"\n",
    "\n",
    "unique_name = True,\n",
    "\n",
    "random_number = random.randint(1, 1000)  # You can adjust the range as needed\n",
    "experiment_name = f\"/home/user/xirl/exp{random_number}\"\n",
    "\n"
   ]
  },
  {
   "cell_type": "code",
   "execution_count": 4,
   "id": "f4db380c-73c0-404b-a2a8-f27418c6c133",
   "metadata": {},
   "outputs": [
    {
     "name": "stdout",
     "output_type": "stream",
     "text": [
      "Error: I1012 11:31:00.323598 140689367900800 pretrain.py:70] Using device: cuda:0\n",
      "I1012 11:31:00.324410 140689367900800 pretrain.py:74] Pretraining experiment seed: 1\n",
      "/home/user/mambaforge/envs/xirl/lib/python3.8/site-packages/torch/cuda/__init__.py:104: UserWarning: \n",
      "NVIDIA RTX A4000 with CUDA capability sm_86 is not compatible with the current PyTorch installation.\n",
      "The current PyTorch install supports CUDA capabilities sm_37 sm_50 sm_60 sm_70 sm_75.\n",
      "If you want to use the NVIDIA RTX A4000 GPU with PyTorch, please check the instructions at https://pytorch.org/get-started/locally/\n",
      "\n",
      "  warnings.warn(incompatible_device_warn.format(device_name, capability, \" \".join(arch_list), device_name))\n",
      "Traceback (most recent call last):\n",
      "  File \"pretrain.py\", line 172, in <module>\n",
      "    app.run(main)\n",
      "  File \"/home/user/mambaforge/envs/xirl/lib/python3.8/site-packages/absl/app.py\", line 312, in run\n",
      "    _run_main(main, args)\n",
      "  File \"/home/user/mambaforge/envs/xirl/lib/python3.8/site-packages/absl/app.py\", line 258, in _run_main\n",
      "    sys.exit(main(argv))\n",
      "  File \"/home/user/mambaforge/envs/xirl/lib/python3.8/site-packages/torchkit/experiment.py\", line 41, in inner_wrapper\n",
      "    return f(*args, **kwargs)\n",
      "  File \"pretrain.py\", line 108, in main\n",
      "    train_loss = trainer.train_one_iter(batch)\n",
      "  File \"/home/user/xirl/xirl/trainers/base.py\", line 108, in train_one_iter\n",
      "    out = self._model(frames)\n",
      "  File \"/home/user/mambaforge/envs/xirl/lib/python3.8/site-packages/torch/nn/modules/module.py\", line 727, in _call_impl\n",
      "    result = self.forward(*input, **kwargs)\n",
      "  File \"/home/user/xirl/xirl/models.py\", line 102, in forward\n",
      "    feats = self.backbone(x_flat)\n",
      "  File \"/home/user/mambaforge/envs/xirl/lib/python3.8/site-packages/torch/nn/modules/module.py\", line 727, in _call_impl\n",
      "    result = self.forward(*input, **kwargs)\n",
      "  File \"/home/user/mambaforge/envs/xirl/lib/python3.8/site-packages/torch/nn/modules/container.py\", line 117, in forward\n",
      "    input = module(input)\n",
      "  File \"/home/user/mambaforge/envs/xirl/lib/python3.8/site-packages/torch/nn/modules/module.py\", line 727, in _call_impl\n",
      "    result = self.forward(*input, **kwargs)\n",
      "  File \"/home/user/mambaforge/envs/xirl/lib/python3.8/site-packages/torch/nn/modules/batchnorm.py\", line 111, in forward\n",
      "    self.num_batches_tracked = self.num_batches_tracked + 1\n",
      "RuntimeError: CUDA error: no kernel image is available for execution on the device\n",
      "\n",
      "Return Code: 1\n"
     ]
    },
    {
     "ename": "CalledProcessError",
     "evalue": "Command '['python', 'compute_goal_embedding.py', '--experiment_path', '/home/user/xirl/exp137']' returned non-zero exit status 1.",
     "output_type": "error",
     "traceback": [
      "\u001b[0;31m---------------------------------------------------------------------------\u001b[0m",
      "\u001b[0;31mCalledProcessError\u001b[0m                        Traceback (most recent call last)",
      "Cell \u001b[0;32mIn[4], line 50\u001b[0m\n\u001b[1;32m     48\u001b[0m \u001b[38;5;66;03m# The 'goal_classifier' baseline does not need to compute a goal embedding.\u001b[39;00m\n\u001b[1;32m     49\u001b[0m \u001b[38;5;28;01mif\u001b[39;00m algo \u001b[38;5;241m!=\u001b[39m \u001b[38;5;124m\"\u001b[39m\u001b[38;5;124mgoal_classifier\u001b[39m\u001b[38;5;124m\"\u001b[39m:\n\u001b[0;32m---> 50\u001b[0m   \u001b[43msubprocess\u001b[49m\u001b[38;5;241;43m.\u001b[39;49m\u001b[43mrun\u001b[49m\u001b[43m(\u001b[49m\n\u001b[1;32m     51\u001b[0m \u001b[43m      \u001b[49m\u001b[43m[\u001b[49m\n\u001b[1;32m     52\u001b[0m \u001b[43m          \u001b[49m\u001b[38;5;124;43m\"\u001b[39;49m\u001b[38;5;124;43mpython\u001b[39;49m\u001b[38;5;124;43m\"\u001b[39;49m\u001b[43m,\u001b[49m\n\u001b[1;32m     53\u001b[0m \u001b[43m          \u001b[49m\u001b[38;5;124;43m\"\u001b[39;49m\u001b[38;5;124;43mcompute_goal_embedding.py\u001b[39;49m\u001b[38;5;124;43m\"\u001b[39;49m\u001b[43m,\u001b[49m\n\u001b[1;32m     54\u001b[0m \u001b[43m          \u001b[49m\u001b[38;5;124;43m\"\u001b[39;49m\u001b[38;5;124;43m--experiment_path\u001b[39;49m\u001b[38;5;124;43m\"\u001b[39;49m\u001b[43m,\u001b[49m\n\u001b[1;32m     55\u001b[0m \u001b[43m          \u001b[49m\u001b[43mexperiment_name\u001b[49m\u001b[43m,\u001b[49m\n\u001b[1;32m     56\u001b[0m \u001b[43m      \u001b[49m\u001b[43m]\u001b[49m\u001b[43m,\u001b[49m\n\u001b[1;32m     57\u001b[0m \u001b[43m      \u001b[49m\u001b[43mcheck\u001b[49m\u001b[38;5;241;43m=\u001b[39;49m\u001b[38;5;28;43;01mTrue\u001b[39;49;00m\u001b[43m,\u001b[49m\n\u001b[1;32m     58\u001b[0m \u001b[43m  \u001b[49m\u001b[43m)\u001b[49m\n\u001b[1;32m     60\u001b[0m \u001b[38;5;66;03m# Dump experiment metadata as yaml file.\u001b[39;00m\n\u001b[1;32m     61\u001b[0m \u001b[38;5;28;01mwith\u001b[39;00m \u001b[38;5;28mopen\u001b[39m(osp\u001b[38;5;241m.\u001b[39mjoin(exp_path, \u001b[38;5;124m\"\u001b[39m\u001b[38;5;124mmetadata.yaml\u001b[39m\u001b[38;5;124m\"\u001b[39m), \u001b[38;5;124m\"\u001b[39m\u001b[38;5;124mw\u001b[39m\u001b[38;5;124m\"\u001b[39m) \u001b[38;5;28;01mas\u001b[39;00m fp:\n",
      "File \u001b[0;32m~/mambaforge/envs/xirl/lib/python3.8/subprocess.py:516\u001b[0m, in \u001b[0;36mrun\u001b[0;34m(input, capture_output, timeout, check, *popenargs, **kwargs)\u001b[0m\n\u001b[1;32m    514\u001b[0m     retcode \u001b[38;5;241m=\u001b[39m process\u001b[38;5;241m.\u001b[39mpoll()\n\u001b[1;32m    515\u001b[0m     \u001b[38;5;28;01mif\u001b[39;00m check \u001b[38;5;129;01mand\u001b[39;00m retcode:\n\u001b[0;32m--> 516\u001b[0m         \u001b[38;5;28;01mraise\u001b[39;00m CalledProcessError(retcode, process\u001b[38;5;241m.\u001b[39margs,\n\u001b[1;32m    517\u001b[0m                                  output\u001b[38;5;241m=\u001b[39mstdout, stderr\u001b[38;5;241m=\u001b[39mstderr)\n\u001b[1;32m    518\u001b[0m \u001b[38;5;28;01mreturn\u001b[39;00m CompletedProcess(process\u001b[38;5;241m.\u001b[39margs, retcode, stdout, stderr)\n",
      "\u001b[0;31mCalledProcessError\u001b[0m: Command '['python', 'compute_goal_embedding.py', '--experiment_path', '/home/user/xirl/exp137']' returned non-zero exit status 1."
     ]
    }
   ],
   "source": [
    "\n",
    "\n",
    "embodiments = EMBODIMENTS if embodiment is None else [embodiment]\n",
    "\n",
    "for embodiment in embodiments:\n",
    "    # Generate a unique experiment name.\n",
    "    kwargs = {\n",
    "        \"dataset\": \"xmagical\",\n",
    "        \"mode\": \"cross\",\n",
    "        \"algo\": algo,\n",
    "        \"embodiment\": embodiment,\n",
    "    }\n",
    "    if unique_name:\n",
    "      kwargs[\"uid\"] = unique_id()\n",
    "    logging.info(\"Experiment name: %s\", experiment_name)\n",
    "    \n",
    "    # Train on all classes but the given embodiment.\n",
    "    trainable_embs = tuple(EMBODIMENTS - set([embodiment]))\n",
    "    try:\n",
    "\n",
    "        subprocess.run(\n",
    "            [\n",
    "                \"python\",\n",
    "                \"pretrain.py\",\n",
    "                \"--experiment_name\",\n",
    "                experiment_name,\n",
    "                \"--raw_imagenet\" if algo == \"raw_imagenet\" else \" \",\n",
    "                \"--config\",\n",
    "                f\"{ALGO_TO_CONFIG[algo]}\",\n",
    "                \"--config.data.pretrain_action_class\",\n",
    "                f\"{repr(trainable_embs)}\",\n",
    "                \"--config.data.downstream_action_class\",\n",
    "                f\"{repr(trainable_embs)}\",\n",
    "                \"--config.data.max_vids_per_class\",\n",
    "                f\"{MAX_DEMONSTRATIONS}\",\n",
    "            ],\n",
    "            check=True,\n",
    "            stdout=subprocess.PIPE,  # Capture standard output\n",
    "            stderr=subprocess.PIPE,   # Capture standard error\n",
    "            text=True  \n",
    "        )\n",
    "    \n",
    "        # Note: This assumes that the config.root_dir value has not been\n",
    "        # changed to its default value of 'tmp/xirl/pretrain_runs/'.\n",
    "        exp_path = osp.join(\"/tmp/xirl/pretrain_runs/\", experiment_name)\n",
    "        print(\"Output:\", result.stdout)\n",
    "    except subprocess.CalledProcessError as e:\n",
    "        print(\"Error:\", e.stderr)\n",
    "        print(\"Return Code:\", e.returncode)\n",
    "    # The 'goal_classifier' baseline does not need to compute a goal embedding.\n",
    "    if algo != \"goal_classifier\":\n",
    "      subprocess.run(\n",
    "          [\n",
    "              \"python\",\n",
    "              \"compute_goal_embedding.py\",\n",
    "              \"--experiment_path\",\n",
    "              experiment_name,\n",
    "          ],\n",
    "          check=True,\n",
    "      )\n",
    "    \n",
    "    # Dump experiment metadata as yaml file.\n",
    "    with open(osp.join(exp_path, \"metadata.yaml\"), \"w\") as fp:\n",
    "      yaml.dump(kwargs, fp)\n",
    "\n"
   ]
  }
 ],
 "metadata": {
  "kernelspec": {
   "display_name": "xirl",
   "language": "python",
   "name": "xirl"
  },
  "language_info": {
   "codemirror_mode": {
    "name": "ipython",
    "version": 3
   },
   "file_extension": ".py",
   "mimetype": "text/x-python",
   "name": "python",
   "nbconvert_exporter": "python",
   "pygments_lexer": "ipython3",
   "version": "3.8.20"
  }
 },
 "nbformat": 4,
 "nbformat_minor": 5
}
