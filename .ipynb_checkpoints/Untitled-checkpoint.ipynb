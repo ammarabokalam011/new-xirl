{
 "cells": [
  {
   "cell_type": "markdown",
   "id": "5dfb5884-dc16-4970-86ba-3b7c5282c2d9",
   "metadata": {},
   "source": [
    "# coding=utf-8\n",
    "# Copyright 2024 The Google Research Authors.\n",
    "#\n",
    "# Licensed under the Apache License, Version 2.0 (the \"License\");\n",
    "# you may not use this file except in compliance with the License.\n",
    "# You may obtain a copy of the License at\n",
    "#\n",
    "#     http://www.apache.org/licenses/LICENSE-2.0\n",
    "#\n",
    "# Unless required by applicable law or agreed to in writing, software\n",
    "# distributed under the License is distributed on an \"AS IS\" BASIS,\n",
    "# WITHOUT WARRANTIES OR CONDITIONS OF ANY KIND, either express or implied.\n",
    "# See the License for the specific language governing permissions and\n",
    "# limitations under the License.\n",
    "\n",
    "\"\"\"X-MAGICAL cross-embodiment pretraining script.\"\"\"\n"
   ]
  },
  {
   "cell_type": "code",
   "execution_count": 1,
   "id": "d4243f40-b24b-4096-8c3e-c4499e136e7c",
   "metadata": {},
   "outputs": [
    {
     "name": "stderr",
     "output_type": "stream",
     "text": [
      "/home/user/mambaforge/envs/xirl/lib/python3.8/site-packages/tqdm/auto.py:21: TqdmWarning: IProgress not found. Please update jupyter and ipywidgets. See https://ipywidgets.readthedocs.io/en/stable/user_install.html\n",
      "  from .autonotebook import tqdm as notebook_tqdm\n"
     ]
    }
   ],
   "source": [
    "\n",
    "import os.path as osp\n",
    "import subprocess\n",
    "\n",
    "from absl import app\n",
    "from absl import logging\n",
    "from configs.constants import ALGORITHMS\n",
    "from configs.constants import EMBODIMENTS\n",
    "from torchkit.experiment import string_from_kwargs\n",
    "from torchkit.experiment import unique_id\n",
    "import yaml\n",
    "import random\n"
   ]
  },
  {
   "cell_type": "code",
   "execution_count": 2,
   "id": "4d8a5323-194a-4d7c-861b-ae5fa4df4f67",
   "metadata": {},
   "outputs": [],
   "source": [
    "\n",
    "# pylint: disable=logging-fstring-interpolation\n",
    "\n",
    "# Mapping from pretraining algorithm to config file.\n",
    "ALGO_TO_CONFIG = {\n",
    "    \"xirl\": \"configs/xmagical/pretraining/tcc.py\",\n",
    "    \"lifs\": \"configs/xmagical/pretraining/lifs.py\",\n",
    "    \"tcn\": \"configs/xmagical/pretraining/tcn.py\",\n",
    "    \"goal_classifier\": \"configs/xmagical/pretraining/classifier.py\",\n",
    "    \"raw_imagenet\": \"configs/xmagical/pretraining/imagenet.py\",\n",
    "}\n",
    "\n",
    "# We want to pretrain on the entire 1k demonstrations.\n",
    "MAX_DEMONSTRATIONS = -1\n"
   ]
  },
  {
   "cell_type": "code",
   "execution_count": 3,
   "id": "265c7d2b-92d3-4cc9-82d6-93171a86d76c",
   "metadata": {},
   "outputs": [],
   "source": [
    "embodiment = \"shortstick\"\n",
    "\n",
    "algo = \"xirl\"\n",
    "\n",
    "unique_name = True,\n",
    "\n",
    "random_number = random.randint(1, 1000)  # You can adjust the range as needed\n",
    "experiment_name = f\"/home/user/xirl/exp{random_number}\"\n",
    "\n"
   ]
  },
  {
   "cell_type": "code",
   "execution_count": 4,
   "id": "f4db380c-73c0-404b-a2a8-f27418c6c133",
   "metadata": {},
   "outputs": [
    {
     "ename": "CalledProcessError",
     "evalue": "Command '['python', 'pretrain.py', '--experiment_name', '/home/user/xirl/exp956', '', '--config', 'configs/xmagical/pretraining/tcc.py', '--config.data.pretrain_action_class', \"('longstick', 'mediumstick', 'gripper')\", '--config.data.downstream_action_class', \"('longstick', 'mediumstick', 'gripper')\", '--config.data.max_vids_per_class', '-1']' returned non-zero exit status 1.",
     "output_type": "error",
     "traceback": [
      "\u001b[0;31m---------------------------------------------------------------------------\u001b[0m",
      "\u001b[0;31mCalledProcessError\u001b[0m                        Traceback (most recent call last)",
      "Cell \u001b[0;32mIn[4], line 18\u001b[0m\n\u001b[1;32m     15\u001b[0m \u001b[38;5;66;03m# Train on all classes but the given embodiment.\u001b[39;00m\n\u001b[1;32m     16\u001b[0m trainable_embs \u001b[38;5;241m=\u001b[39m \u001b[38;5;28mtuple\u001b[39m(EMBODIMENTS \u001b[38;5;241m-\u001b[39m \u001b[38;5;28mset\u001b[39m([embodiment]))\n\u001b[0;32m---> 18\u001b[0m \u001b[43msubprocess\u001b[49m\u001b[38;5;241;43m.\u001b[39;49m\u001b[43mrun\u001b[49m\u001b[43m(\u001b[49m\n\u001b[1;32m     19\u001b[0m \u001b[43m    \u001b[49m\u001b[43m[\u001b[49m\n\u001b[1;32m     20\u001b[0m \u001b[43m        \u001b[49m\u001b[38;5;124;43m\"\u001b[39;49m\u001b[38;5;124;43mpython\u001b[39;49m\u001b[38;5;124;43m\"\u001b[39;49m\u001b[43m,\u001b[49m\n\u001b[1;32m     21\u001b[0m \u001b[43m        \u001b[49m\u001b[38;5;124;43m\"\u001b[39;49m\u001b[38;5;124;43mpretrain.py\u001b[39;49m\u001b[38;5;124;43m\"\u001b[39;49m\u001b[43m,\u001b[49m\n\u001b[1;32m     22\u001b[0m \u001b[43m        \u001b[49m\u001b[38;5;124;43m\"\u001b[39;49m\u001b[38;5;124;43m--experiment_name\u001b[39;49m\u001b[38;5;124;43m\"\u001b[39;49m\u001b[43m,\u001b[49m\n\u001b[1;32m     23\u001b[0m \u001b[43m        \u001b[49m\u001b[43mexperiment_name\u001b[49m\u001b[43m,\u001b[49m\n\u001b[1;32m     24\u001b[0m \u001b[43m        \u001b[49m\u001b[38;5;124;43m\"\u001b[39;49m\u001b[38;5;124;43m--raw_imagenet\u001b[39;49m\u001b[38;5;124;43m\"\u001b[39;49m\u001b[43m \u001b[49m\u001b[38;5;28;43;01mif\u001b[39;49;00m\u001b[43m \u001b[49m\u001b[43malgo\u001b[49m\u001b[43m \u001b[49m\u001b[38;5;241;43m==\u001b[39;49m\u001b[43m \u001b[49m\u001b[38;5;124;43m\"\u001b[39;49m\u001b[38;5;124;43mraw_imagenet\u001b[39;49m\u001b[38;5;124;43m\"\u001b[39;49m\u001b[43m \u001b[49m\u001b[38;5;28;43;01melse\u001b[39;49;00m\u001b[43m \u001b[49m\u001b[38;5;124;43m\"\u001b[39;49m\u001b[38;5;124;43m\"\u001b[39;49m\u001b[43m,\u001b[49m\n\u001b[1;32m     25\u001b[0m \u001b[43m        \u001b[49m\u001b[38;5;124;43m\"\u001b[39;49m\u001b[38;5;124;43m--config\u001b[39;49m\u001b[38;5;124;43m\"\u001b[39;49m\u001b[43m,\u001b[49m\n\u001b[1;32m     26\u001b[0m \u001b[43m        \u001b[49m\u001b[38;5;124;43mf\u001b[39;49m\u001b[38;5;124;43m\"\u001b[39;49m\u001b[38;5;132;43;01m{\u001b[39;49;00m\u001b[43mALGO_TO_CONFIG\u001b[49m\u001b[43m[\u001b[49m\u001b[43malgo\u001b[49m\u001b[43m]\u001b[49m\u001b[38;5;132;43;01m}\u001b[39;49;00m\u001b[38;5;124;43m\"\u001b[39;49m\u001b[43m,\u001b[49m\n\u001b[1;32m     27\u001b[0m \u001b[43m        \u001b[49m\u001b[38;5;124;43m\"\u001b[39;49m\u001b[38;5;124;43m--config.data.pretrain_action_class\u001b[39;49m\u001b[38;5;124;43m\"\u001b[39;49m\u001b[43m,\u001b[49m\n\u001b[1;32m     28\u001b[0m \u001b[43m        \u001b[49m\u001b[38;5;124;43mf\u001b[39;49m\u001b[38;5;124;43m\"\u001b[39;49m\u001b[38;5;132;43;01m{\u001b[39;49;00m\u001b[38;5;28;43mrepr\u001b[39;49m\u001b[43m(\u001b[49m\u001b[43mtrainable_embs\u001b[49m\u001b[43m)\u001b[49m\u001b[38;5;132;43;01m}\u001b[39;49;00m\u001b[38;5;124;43m\"\u001b[39;49m\u001b[43m,\u001b[49m\n\u001b[1;32m     29\u001b[0m \u001b[43m        \u001b[49m\u001b[38;5;124;43m\"\u001b[39;49m\u001b[38;5;124;43m--config.data.downstream_action_class\u001b[39;49m\u001b[38;5;124;43m\"\u001b[39;49m\u001b[43m,\u001b[49m\n\u001b[1;32m     30\u001b[0m \u001b[43m        \u001b[49m\u001b[38;5;124;43mf\u001b[39;49m\u001b[38;5;124;43m\"\u001b[39;49m\u001b[38;5;132;43;01m{\u001b[39;49;00m\u001b[38;5;28;43mrepr\u001b[39;49m\u001b[43m(\u001b[49m\u001b[43mtrainable_embs\u001b[49m\u001b[43m)\u001b[49m\u001b[38;5;132;43;01m}\u001b[39;49;00m\u001b[38;5;124;43m\"\u001b[39;49m\u001b[43m,\u001b[49m\n\u001b[1;32m     31\u001b[0m \u001b[43m        \u001b[49m\u001b[38;5;124;43m\"\u001b[39;49m\u001b[38;5;124;43m--config.data.max_vids_per_class\u001b[39;49m\u001b[38;5;124;43m\"\u001b[39;49m\u001b[43m,\u001b[49m\n\u001b[1;32m     32\u001b[0m \u001b[43m        \u001b[49m\u001b[38;5;124;43mf\u001b[39;49m\u001b[38;5;124;43m\"\u001b[39;49m\u001b[38;5;132;43;01m{\u001b[39;49;00m\u001b[43mMAX_DEMONSTRATIONS\u001b[49m\u001b[38;5;132;43;01m}\u001b[39;49;00m\u001b[38;5;124;43m\"\u001b[39;49m\u001b[43m,\u001b[49m\n\u001b[1;32m     33\u001b[0m \u001b[43m    \u001b[49m\u001b[43m]\u001b[49m\u001b[43m,\u001b[49m\n\u001b[1;32m     34\u001b[0m \u001b[43m    \u001b[49m\u001b[43mcheck\u001b[49m\u001b[38;5;241;43m=\u001b[39;49m\u001b[38;5;28;43;01mTrue\u001b[39;49;00m\u001b[43m,\u001b[49m\n\u001b[1;32m     35\u001b[0m \u001b[43m    \u001b[49m\u001b[43mstdout\u001b[49m\u001b[38;5;241;43m=\u001b[39;49m\u001b[43msubprocess\u001b[49m\u001b[38;5;241;43m.\u001b[39;49m\u001b[43mPIPE\u001b[49m\u001b[43m,\u001b[49m\u001b[43m  \u001b[49m\u001b[38;5;66;43;03m# Capture standard output\u001b[39;49;00m\n\u001b[1;32m     36\u001b[0m \u001b[43m    \u001b[49m\u001b[43mstderr\u001b[49m\u001b[38;5;241;43m=\u001b[39;49m\u001b[43msubprocess\u001b[49m\u001b[38;5;241;43m.\u001b[39;49m\u001b[43mPIPE\u001b[49m\u001b[43m   \u001b[49m\u001b[38;5;66;43;03m# Capture standard error\u001b[39;49;00m\n\u001b[1;32m     37\u001b[0m \u001b[43m\u001b[49m\u001b[43m)\u001b[49m\n\u001b[1;32m     39\u001b[0m \u001b[38;5;66;03m# Note: This assumes that the config.root_dir value has not been\u001b[39;00m\n\u001b[1;32m     40\u001b[0m \u001b[38;5;66;03m# changed to its default value of 'tmp/xirl/pretrain_runs/'.\u001b[39;00m\n\u001b[1;32m     41\u001b[0m exp_path \u001b[38;5;241m=\u001b[39m osp\u001b[38;5;241m.\u001b[39mjoin(\u001b[38;5;124m\"\u001b[39m\u001b[38;5;124m/tmp/xirl/pretrain_runs/\u001b[39m\u001b[38;5;124m\"\u001b[39m, experiment_name)\n",
      "File \u001b[0;32m~/mambaforge/envs/xirl/lib/python3.8/subprocess.py:516\u001b[0m, in \u001b[0;36mrun\u001b[0;34m(input, capture_output, timeout, check, *popenargs, **kwargs)\u001b[0m\n\u001b[1;32m    514\u001b[0m     retcode \u001b[38;5;241m=\u001b[39m process\u001b[38;5;241m.\u001b[39mpoll()\n\u001b[1;32m    515\u001b[0m     \u001b[38;5;28;01mif\u001b[39;00m check \u001b[38;5;129;01mand\u001b[39;00m retcode:\n\u001b[0;32m--> 516\u001b[0m         \u001b[38;5;28;01mraise\u001b[39;00m CalledProcessError(retcode, process\u001b[38;5;241m.\u001b[39margs,\n\u001b[1;32m    517\u001b[0m                                  output\u001b[38;5;241m=\u001b[39mstdout, stderr\u001b[38;5;241m=\u001b[39mstderr)\n\u001b[1;32m    518\u001b[0m \u001b[38;5;28;01mreturn\u001b[39;00m CompletedProcess(process\u001b[38;5;241m.\u001b[39margs, retcode, stdout, stderr)\n",
      "\u001b[0;31mCalledProcessError\u001b[0m: Command '['python', 'pretrain.py', '--experiment_name', '/home/user/xirl/exp956', '', '--config', 'configs/xmagical/pretraining/tcc.py', '--config.data.pretrain_action_class', \"('longstick', 'mediumstick', 'gripper')\", '--config.data.downstream_action_class', \"('longstick', 'mediumstick', 'gripper')\", '--config.data.max_vids_per_class', '-1']' returned non-zero exit status 1."
     ]
    }
   ],
   "source": [
    "\n",
    "\n",
    "embodiments = EMBODIMENTS if embodiment is None else [embodiment]\n",
    "\n",
    "for embodiment in embodiments:\n",
    "    # Generate a unique experiment name.\n",
    "    kwargs = {\n",
    "        \"dataset\": \"xmagical\",\n",
    "        \"mode\": \"cross\",\n",
    "        \"algo\": algo,\n",
    "        \"embodiment\": embodiment,\n",
    "    }\n",
    "    if unique_name:\n",
    "      kwargs[\"uid\"] = unique_id()\n",
    "    logging.info(\"Experiment name: %s\", experiment_name)\n",
    "    \n",
    "    # Train on all classes but the given embodiment.\n",
    "    trainable_embs = tuple(EMBODIMENTS - set([embodiment]))\n",
    "    \n",
    "    subprocess.run(\n",
    "        [\n",
    "            \"python\",\n",
    "            \"pretrain.py\",\n",
    "            \"--experiment_name\",\n",
    "            experiment_name,\n",
    "            # \"--raw_imagenet\" if algo == \"raw_imagenet\" else \"\",\n",
    "            \"--raw_imagenet\" if algo == \"raw_imagenet\" else None,  # Use None instead of \"\"\n",
    "            \"--config\",\n",
    "            f\"{ALGO_TO_CONFIG[algo]}\",\n",
    "            \"--config.data.pretrain_action_class\",\n",
    "            f\"{repr(trainable_embs)}\",\n",
    "            \"--config.data.downstream_action_class\",\n",
    "            f\"{repr(trainable_embs)}\",\n",
    "            \"--config.data.max_vids_per_class\",\n",
    "            f\"{MAX_DEMONSTRATIONS}\",\n",
    "        ],\n",
    "        check=True,\n",
    "        stdout=subprocess.PIPE,  # Capture standard output\n",
    "        stderr=subprocess.PIPE   # Capture standard error\n",
    "    )\n",
    "    \n",
    "    # Note: This assumes that the config.root_dir value has not been\n",
    "    # changed to its default value of 'tmp/xirl/pretrain_runs/'.\n",
    "    exp_path = osp.join(\"/tmp/xirl/pretrain_runs/\", experiment_name)\n",
    "    \n",
    "    # The 'goal_classifier' baseline does not need to compute a goal embedding.\n",
    "    if algo != \"goal_classifier\":\n",
    "      subprocess.run(\n",
    "          [\n",
    "              \"python\",\n",
    "              \"compute_goal_embedding.py\",\n",
    "              \"--experiment_path\",\n",
    "              exp_path,\n",
    "          ],\n",
    "          check=True,\n",
    "      )\n",
    "    \n",
    "    # Dump experiment metadata as yaml file.\n",
    "    with open(osp.join(exp_path, \"metadata.yaml\"), \"w\") as fp:\n",
    "      yaml.dump(kwargs, fp)\n",
    "\n"
   ]
  }
 ],
 "metadata": {
  "kernelspec": {
   "display_name": "xirl",
   "language": "python",
   "name": "xirl"
  },
  "language_info": {
   "codemirror_mode": {
    "name": "ipython",
    "version": 3
   },
   "file_extension": ".py",
   "mimetype": "text/x-python",
   "name": "python",
   "nbconvert_exporter": "python",
   "pygments_lexer": "ipython3",
   "version": "3.8.20"
  }
 },
 "nbformat": 4,
 "nbformat_minor": 5
}
