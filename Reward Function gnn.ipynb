{
 "cells": [
  {
   "cell_type": "markdown",
   "id": "5dfb5884-dc16-4970-86ba-3b7c5282c2d9",
   "metadata": {},
   "source": [
    "coding=utf-8\n",
    "Copyright 2024 The Google Research Authors.\n",
    "\n",
    "Licensed under the Apache License, Version 2.0 (the \"License\");\n",
    "you may not use this file except in compliance with the License.\n",
    "You may obtain a copy of the License at\n",
    "\n",
    "     http://www.apache.org/licenses/LICENSE-2.0\n",
    "\n",
    "Unless required by applicable law or agreed to in writing, software\n",
    "distributed under the License is distributed on an \"AS IS\" BASIS,\n",
    "WITHOUT WARRANTIES OR CONDITIONS OF ANY KIND, either express or implied.\n",
    "See the License for the specific language governing permissions and\n",
    "limitations under the License.\n",
    "\n",
    "\"\"\"X-MAGICAL cross-embodiment pretraining script.\"\"\"\n"
   ]
  },
  {
   "cell_type": "code",
   "execution_count": 1,
   "id": "d4243f40-b24b-4096-8c3e-c4499e136e7c",
   "metadata": {},
   "outputs": [
    {
     "name": "stderr",
     "output_type": "stream",
     "text": [
      "2024-11-27 20:43:48.790827: E tensorflow/compiler/xla/stream_executor/cuda/cuda_dnn.cc:9342] Unable to register cuDNN factory: Attempting to register factory for plugin cuDNN when one has already been registered\n",
      "2024-11-27 20:43:48.790893: E tensorflow/compiler/xla/stream_executor/cuda/cuda_fft.cc:609] Unable to register cuFFT factory: Attempting to register factory for plugin cuFFT when one has already been registered\n",
      "2024-11-27 20:43:48.790913: E tensorflow/compiler/xla/stream_executor/cuda/cuda_blas.cc:1518] Unable to register cuBLAS factory: Attempting to register factory for plugin cuBLAS when one has already been registered\n",
      "2024-11-27 20:43:48.802687: I tensorflow/core/platform/cpu_feature_guard.cc:182] This TensorFlow binary is optimized to use available CPU instructions in performance-critical operations.\n",
      "To enable the following instructions: SSE4.1 SSE4.2 AVX AVX2 FMA, in other operations, rebuild TensorFlow with the appropriate compiler flags.\n"
     ]
    }
   ],
   "source": [
    "\n",
    "import os.path as osp\n",
    "import subprocess\n",
    "import os\n",
    "from configs.constants import XMAGICAL_EMBODIMENT_TO_ENV_NAME\n",
    "\n",
    "from absl import app\n",
    "from absl import logging\n",
    "from configs.constants import ALGORITHMS\n",
    "from configs.constants import EMBODIMENTS\n",
    "from torchkit.experiment import string_from_kwargs\n",
    "from torchkit.experiment import unique_id\n",
    "import yaml\n",
    "import random\n"
   ]
  },
  {
   "cell_type": "code",
   "execution_count": 2,
   "id": "4d8a5323-194a-4d7c-861b-ae5fa4df4f67",
   "metadata": {},
   "outputs": [],
   "source": [
    "\n",
    "# pylint: disable=logging-fstring-interpolation\n",
    "\n",
    "# Mapping from pretraining algorithm to config file.\n",
    "ALGO_TO_CONFIG = {\n",
    "    \"xirl\": \"configs/xmagical/pretraining/tcc.py\",\n",
    "    \"lifs\": \"configs/xmagical/pretraining/lifs.py\",\n",
    "    \"tcn\": \"configs/xmagical/pretraining/tcn.py\",\n",
    "    \"goal_classifier\": \"configs/xmagical/pretraining/classifier.py\",\n",
    "    \"raw_imagenet\": \"configs/xmagical/pretraining/imagenet.py\",\n",
    "}\n"
   ]
  },
  {
   "cell_type": "code",
   "execution_count": 3,
   "id": "265c7d2b-92d3-4cc9-82d6-93171a86d76c",
   "metadata": {},
   "outputs": [
    {
     "name": "stdout",
     "output_type": "stream",
     "text": [
      "experiment name:  /home/user/xirl/exp/same_long_gnn\n"
     ]
    }
   ],
   "source": [
    "# We want to pretrain on the entire 1k demonstrations.\n",
    "MAX_DEMONSTRATIONS = -1\n",
    "# embodiment = None\n",
    "embodiment = \"longstick\"\n",
    "algo = \"xirl\"\n",
    "unique_name = True,\n",
    "random_number = random.randint(1, 1000)  # You can adjust the range as needed\n",
    "experiment_name = f\"/home/user/xirl/exp/exp{random_number}\"\n",
    "experiment_name = \"/home/user/xirl/exp/same_long_gnn\"\n",
    "dataset_folder = f'/tmp/xirl/datasets/xmagical/train/{embodiment}'\n",
    "  \n",
    "# device = 'cpu'\n",
    "device = 'cuda:0'\n",
    "embodiments = EMBODIMENTS if embodiment is None else [embodiment]\n",
    "print(\"experiment name: \",experiment_name)"
   ]
  },
  {
   "cell_type": "code",
   "execution_count": 4,
   "id": "f4db380c-73c0-404b-a2a8-f27418c6c133",
   "metadata": {
    "scrolled": true
   },
   "outputs": [
    {
     "name": "stdout",
     "output_type": "stream",
     "text": [
      "embodiment:  longstick\n"
     ]
    }
   ],
   "source": [
    "\n",
    "for embodiment in embodiments:\n",
    "    # Generate a unique experiment name.\n",
    "    print(\"embodiment: \",embodiment)\n",
    "    kwargs = {\n",
    "        \"dataset\": \"xmagical\",\n",
    "        \"mode\": \"cross\",\n",
    "        \"algo\": algo,\n",
    "        \"embodiment\": embodiment,\n",
    "    }\n",
    "    if unique_name:\n",
    "      kwargs[\"uid\"] = unique_id()\n",
    "    logging.info(\"Experiment name: %s\", experiment_name)\n",
    "    \n",
    "    # Train on all classes but the given embodiment.\n",
    "    trainable_embs = tuple(EMBODIMENTS - set([embodiment]))"
   ]
  },
  {
   "cell_type": "code",
   "execution_count": 6,
   "id": "fc834215-cfe2-4c4b-a9f4-494d344995d7",
   "metadata": {},
   "outputs": [
    {
     "name": "stderr",
     "output_type": "stream",
     "text": [
      "Traceback (most recent call last):\n",
      "  File \"/home/user/xirl/compute_goal_embedding_gnn.py\", line 109, in <module>\n",
      "    flags.mark_flag_as_required(\"dataset_folder\")\n",
      "  File \"/home/user/mambaforge/envs/env/lib/python3.11/site-packages/absl/flags/_validators.py\", line 223, in mark_flag_as_required\n",
      "    if flag_values[flag_name].default is not None:\n",
      "       ~~~~~~~~~~~^^^^^^^^^^^\n",
      "  File \"/home/user/mambaforge/envs/env/lib/python3.11/site-packages/absl/flags/_flagvalues.py\", line 481, in __getitem__\n",
      "    return self._flags()[name]\n",
      "           ~~~~~~~~~~~~~^^^^^^\n",
      "KeyError: 'dataset_folder'\n"
     ]
    },
    {
     "ename": "CalledProcessError",
     "evalue": "Command '['python', 'compute_goal_embedding_gnn.py', '--experiment_path', '/home/user/xirl/exp/same_long_gnn', '--graph_data_path', './data/longstick/graphs/combined_graph.pt', '--dataset_folder', '/tmp/xirl/datasets/xmagical/train/longstick']' returned non-zero exit status 1.",
     "output_type": "error",
     "traceback": [
      "\u001b[0;31m---------------------------------------------------------------------------\u001b[0m",
      "\u001b[0;31mCalledProcessError\u001b[0m                        Traceback (most recent call last)",
      "Cell \u001b[0;32mIn[6], line 6\u001b[0m\n\u001b[1;32m      3\u001b[0m \u001b[38;5;28;01mfor\u001b[39;00m embodiment \u001b[38;5;129;01min\u001b[39;00m embodiments:\n\u001b[1;32m      4\u001b[0m     \u001b[38;5;66;03m# The 'goal_classifier' baseline does not need to compute a goal embedding.\u001b[39;00m\n\u001b[1;32m      5\u001b[0m     \u001b[38;5;28;01mif\u001b[39;00m algo \u001b[38;5;241m!=\u001b[39m \u001b[38;5;124m\"\u001b[39m\u001b[38;5;124mgoal_classifier\u001b[39m\u001b[38;5;124m\"\u001b[39m:\n\u001b[0;32m----> 6\u001b[0m       \u001b[43msubprocess\u001b[49m\u001b[38;5;241;43m.\u001b[39;49m\u001b[43mrun\u001b[49m\u001b[43m(\u001b[49m\n\u001b[1;32m      7\u001b[0m \u001b[43m          \u001b[49m\u001b[43m[\u001b[49m\n\u001b[1;32m      8\u001b[0m \u001b[43m              \u001b[49m\u001b[38;5;124;43m\"\u001b[39;49m\u001b[38;5;124;43mpython\u001b[39;49m\u001b[38;5;124;43m\"\u001b[39;49m\u001b[43m,\u001b[49m\n\u001b[1;32m      9\u001b[0m \u001b[43m              \u001b[49m\u001b[38;5;124;43m\"\u001b[39;49m\u001b[38;5;124;43mcompute_goal_embedding_gnn.py\u001b[39;49m\u001b[38;5;124;43m\"\u001b[39;49m\u001b[43m,\u001b[49m\n\u001b[1;32m     10\u001b[0m \u001b[43m              \u001b[49m\u001b[38;5;124;43m\"\u001b[39;49m\u001b[38;5;124;43m--experiment_path\u001b[39;49m\u001b[38;5;124;43m\"\u001b[39;49m\u001b[43m,\u001b[49m\n\u001b[1;32m     11\u001b[0m \u001b[43m              \u001b[49m\u001b[43mexperiment_name\u001b[49m\u001b[43m,\u001b[49m\n\u001b[1;32m     12\u001b[0m \u001b[43m              \u001b[49m\u001b[38;5;124;43m\"\u001b[39;49m\u001b[38;5;124;43m--graph_data_path\u001b[39;49m\u001b[38;5;124;43m\"\u001b[39;49m\u001b[43m,\u001b[49m\n\u001b[1;32m     13\u001b[0m \u001b[43m              \u001b[49m\u001b[43mgraph_data_path\u001b[49m\u001b[43m,\u001b[49m\n\u001b[1;32m     14\u001b[0m \u001b[43m              \u001b[49m\u001b[38;5;124;43m\"\u001b[39;49m\u001b[38;5;124;43m--dataset_folder\u001b[39;49m\u001b[38;5;124;43m\"\u001b[39;49m\u001b[43m,\u001b[49m\n\u001b[1;32m     15\u001b[0m \u001b[43m              \u001b[49m\u001b[43mdataset_folder\u001b[49m\n\u001b[1;32m     16\u001b[0m \u001b[43m          \u001b[49m\u001b[43m]\u001b[49m\u001b[43m,\u001b[49m\n\u001b[1;32m     17\u001b[0m \u001b[43m          \u001b[49m\u001b[43mcheck\u001b[49m\u001b[38;5;241;43m=\u001b[39;49m\u001b[38;5;28;43;01mTrue\u001b[39;49;00m\u001b[43m,\u001b[49m\n\u001b[1;32m     18\u001b[0m \u001b[43m      \u001b[49m\u001b[43m)\u001b[49m\n",
      "File \u001b[0;32m~/mambaforge/envs/env/lib/python3.11/subprocess.py:571\u001b[0m, in \u001b[0;36mrun\u001b[0;34m(input, capture_output, timeout, check, *popenargs, **kwargs)\u001b[0m\n\u001b[1;32m    569\u001b[0m     retcode \u001b[38;5;241m=\u001b[39m process\u001b[38;5;241m.\u001b[39mpoll()\n\u001b[1;32m    570\u001b[0m     \u001b[38;5;28;01mif\u001b[39;00m check \u001b[38;5;129;01mand\u001b[39;00m retcode:\n\u001b[0;32m--> 571\u001b[0m         \u001b[38;5;28;01mraise\u001b[39;00m CalledProcessError(retcode, process\u001b[38;5;241m.\u001b[39margs,\n\u001b[1;32m    572\u001b[0m                                  output\u001b[38;5;241m=\u001b[39mstdout, stderr\u001b[38;5;241m=\u001b[39mstderr)\n\u001b[1;32m    573\u001b[0m \u001b[38;5;28;01mreturn\u001b[39;00m CompletedProcess(process\u001b[38;5;241m.\u001b[39margs, retcode, stdout, stderr)\n",
      "\u001b[0;31mCalledProcessError\u001b[0m: Command '['python', 'compute_goal_embedding_gnn.py', '--experiment_path', '/home/user/xirl/exp/same_long_gnn', '--graph_data_path', './data/longstick/graphs/combined_graph.pt', '--dataset_folder', '/tmp/xirl/datasets/xmagical/train/longstick']' returned non-zero exit status 1."
     ]
    }
   ],
   "source": [
    "graph_data_path = f\"./data/{embodiment}/graphs/combined_graph.pt\"\n",
    "\n",
    "for embodiment in embodiments:\n",
    "    # The 'goal_classifier' baseline does not need to compute a goal embedding.\n",
    "    if algo != \"goal_classifier\":\n",
    "      subprocess.run(\n",
    "          [\n",
    "              \"python\",\n",
    "              \"compute_goal_embedding_gnn.py\",\n",
    "              \"--experiment_path\",\n",
    "              experiment_name,\n",
    "              \"--graph_data_path\",\n",
    "              graph_data_path,\n",
    "              \"--dataset_folder\",\n",
    "              dataset_folder\n",
    "          ],\n",
    "          check=True,\n",
    "      )\n"
   ]
  },
  {
   "cell_type": "code",
   "execution_count": null,
   "id": "77aa1c77-e0ad-4b14-a2f8-f48f730f1eef",
   "metadata": {},
   "outputs": [],
   "source": [
    "import utils\n",
    "\n",
    "gnn_emb = utils.load_pickle(experiment_name, \"gnn_emb.pkl\")\n",
    "gnn_distance_scale = utils.load_pickle(experiment_name, \"gnn_distance_scale.pkl\")\n",
    "\n",
    "print(gnn_emb,gnn_distance_scale)"
   ]
  },
  {
   "cell_type": "code",
   "execution_count": null,
   "id": "045f60bf-0148-4e3f-8d6b-08e12f52342d",
   "metadata": {},
   "outputs": [],
   "source": []
  }
 ],
 "metadata": {
  "kernelspec": {
   "display_name": "Python 3 (ipykernel)",
   "language": "python",
   "name": "python3"
  },
  "language_info": {
   "codemirror_mode": {
    "name": "ipython",
    "version": 3
   },
   "file_extension": ".py",
   "mimetype": "text/x-python",
   "name": "python",
   "nbconvert_exporter": "python",
   "pygments_lexer": "ipython3",
   "version": "3.11.9"
  },
  "widgets": {
   "application/vnd.jupyter.widget-state+json": {
    "state": {},
    "version_major": 2,
    "version_minor": 0
   }
  }
 },
 "nbformat": 4,
 "nbformat_minor": 5
}
