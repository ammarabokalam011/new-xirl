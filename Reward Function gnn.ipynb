{
 "cells": [
  {
   "cell_type": "markdown",
   "id": "5dfb5884-dc16-4970-86ba-3b7c5282c2d9",
   "metadata": {},
   "source": [
    "coding=utf-8\n",
    "Copyright 2024 The Google Research Authors.\n",
    "\n",
    "Licensed under the Apache License, Version 2.0 (the \"License\");\n",
    "you may not use this file except in compliance with the License.\n",
    "You may obtain a copy of the License at\n",
    "\n",
    "     http://www.apache.org/licenses/LICENSE-2.0\n",
    "\n",
    "Unless required by applicable law or agreed to in writing, software\n",
    "distributed under the License is distributed on an \"AS IS\" BASIS,\n",
    "WITHOUT WARRANTIES OR CONDITIONS OF ANY KIND, either express or implied.\n",
    "See the License for the specific language governing permissions and\n",
    "limitations under the License.\n",
    "\n",
    "\"\"\"X-MAGICAL cross-embodiment pretraining script.\"\"\"\n"
   ]
  },
  {
   "cell_type": "code",
   "execution_count": null,
   "id": "d4243f40-b24b-4096-8c3e-c4499e136e7c",
   "metadata": {},
   "outputs": [],
   "source": [
    "\n",
    "import os.path as osp\n",
    "import subprocess\n",
    "import os\n",
    "from configs.constants import XMAGICAL_EMBODIMENT_TO_ENV_NAME\n",
    "\n",
    "from absl import app\n",
    "from absl import logging\n",
    "from configs.constants import ALGORITHMS\n",
    "from configs.constants import EMBODIMENTS\n",
    "from torchkit.experiment import string_from_kwargs\n",
    "from torchkit.experiment import unique_id\n",
    "import yaml\n",
    "import random\n"
   ]
  },
  {
   "cell_type": "code",
   "execution_count": null,
   "id": "4d8a5323-194a-4d7c-861b-ae5fa4df4f67",
   "metadata": {},
   "outputs": [],
   "source": [
    "\n",
    "# Mapping from pretraining algorithm to config file.\n",
    "ALGO_TO_CONFIG = {\n",
    "    \"xirl\": \"configs/xmagical/pretraining/tcc.py\",\n",
    "    \"lifs\": \"configs/xmagical/pretraining/lifs.py\",\n",
    "    \"tcn\": \"configs/xmagical/pretraining/tcn.py\",\n",
    "    \"goal_classifier\": \"configs/xmagical/pretraining/classifier.py\",\n",
    "    \"raw_imagenet\": \"configs/xmagical/pretraining/imagenet.py\",\n",
    "}\n"
   ]
  },
  {
   "cell_type": "code",
   "execution_count": null,
   "id": "265c7d2b-92d3-4cc9-82d6-93171a86d76c",
   "metadata": {},
   "outputs": [],
   "source": [
    "# We want to pretrain on the entire 1k demonstrations.\n",
    "MAX_DEMONSTRATIONS = -1\n",
    "# embodiment = None\n",
    "embodiment = \"longstick\"\n",
    "algo = \"xirl\"\n",
    "unique_name = True,\n",
    "random_number = random.randint(1, 1000)  # You can adjust the range as needed\n",
    "experiment_name = f\"/home/user/xirl/exp/exp{random_number}\"\n",
    "experiment_name = \"/home/user/xirl/exp/same_long_gnn\"\n",
    "dataset_folder = f'/tmp/xirl/datasets/xmagical/train/{embodiment}'\n",
    "# device = 'cpu'\n",
    "device = 'cuda:0'\n",
    "embodiments = EMBODIMENTS if embodiment is None else [embodiment]\n",
    "graph_data_path = f\"./data/{embodiment}/graphs/combined_graph.pt\"\n",
    "print(\"experiment name: \",experiment_name)"
   ]
  },
  {
   "cell_type": "code",
   "execution_count": null,
   "id": "f4db380c-73c0-404b-a2a8-f27418c6c133",
   "metadata": {
    "scrolled": true
   },
   "outputs": [],
   "source": [
    "for embodiment in embodiments:\n",
    "    # Generate a unique experiment name.\n",
    "    print(\"embodiment: \",embodiment)\n",
    "    kwargs = {\n",
    "        \"dataset\": \"xmagical\",\n",
    "        \"mode\": \"cross\",\n",
    "        \"algo\": algo,\n",
    "        \"embodiment\": embodiment,\n",
    "    }\n",
    "    if unique_name:\n",
    "      kwargs[\"uid\"] = unique_id()\n",
    "    logging.info(\"Experiment name: %s\", experiment_name)\n",
    "    \n",
    "    # Train on all classes but the given embodiment.\n",
    "    trainable_embs = tuple(EMBODIMENTS - set([embodiment]))"
   ]
  },
  {
   "cell_type": "code",
   "execution_count": null,
   "id": "fc834215-cfe2-4c4b-a9f4-494d344995d7",
   "metadata": {},
   "outputs": [],
   "source": [
    "for embodiment in embodiments:\n",
    "    # The 'goal_classifier' baseline does not need to compute a goal embedding.\n",
    "      subprocess.run(\n",
    "          [\n",
    "              \"python\",\n",
    "              \"compute_goal_embedding_gnn.py\",\n",
    "              \"--experiment_path\",\n",
    "              experiment_name,\n",
    "              \"--graph_data_path\",\n",
    "              graph_data_path,\n",
    "              \"--dataset_folder\",\n",
    "              dataset_folder\n",
    "          ],\n",
    "          check=True,\n",
    "      )\n"
   ]
  },
  {
   "cell_type": "code",
   "execution_count": null,
   "id": "77aa1c77-e0ad-4b14-a2f8-f48f730f1eef",
   "metadata": {},
   "outputs": [],
   "source": [
    "import utils\n",
    "\n",
    "gnn_emb = utils.load_pickle(experiment_name, \"gnn_emb.pkl\")\n",
    "gnn_distance_scale = utils.load_pickle(experiment_name, \"gnn_distance_scale.pkl\")\n",
    "\n",
    "print(gnn_emb,gnn_distance_scale)\n"
   ]
  },
  {
   "cell_type": "code",
   "execution_count": null,
   "id": "045f60bf-0148-4e3f-8d6b-08e12f52342d",
   "metadata": {},
   "outputs": [],
   "source": []
  }
 ],
 "metadata": {
  "kernelspec": {
   "display_name": "Python 3 (ipykernel)",
   "language": "python",
   "name": "python3"
  },
  "language_info": {
   "codemirror_mode": {
    "name": "ipython",
    "version": 3
   },
   "file_extension": ".py",
   "mimetype": "text/x-python",
   "name": "python",
   "nbconvert_exporter": "python",
   "pygments_lexer": "ipython3",
   "version": "3.11.9"
  },
  "widgets": {
   "application/vnd.jupyter.widget-state+json": {
    "state": {},
    "version_major": 2,
    "version_minor": 0
   }
  }
 },
 "nbformat": 4,
 "nbformat_minor": 5
}
