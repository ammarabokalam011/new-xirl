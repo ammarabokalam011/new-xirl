{
 "cells": [
  {
   "cell_type": "markdown",
   "id": "5dfb5884-dc16-4970-86ba-3b7c5282c2d9",
   "metadata": {},
   "source": [
    "coding=utf-8\n",
    "Copyright 2024 The Google Research Authors.\n",
    "\n",
    "Licensed under the Apache License, Version 2.0 (the \"License\");\n",
    "you may not use this file except in compliance with the License.\n",
    "You may obtain a copy of the License at\n",
    "\n",
    "     http://www.apache.org/licenses/LICENSE-2.0\n",
    "\n",
    "Unless required by applicable law or agreed to in writing, software\n",
    "distributed under the License is distributed on an \"AS IS\" BASIS,\n",
    "WITHOUT WARRANTIES OR CONDITIONS OF ANY KIND, either express or implied.\n",
    "See the License for the specific language governing permissions and\n",
    "limitations under the License.\n",
    "\n",
    "\"\"\"X-MAGICAL cross-embodiment pretraining script.\"\"\"\n"
   ]
  },
  {
   "cell_type": "code",
   "execution_count": 1,
   "id": "d4243f40-b24b-4096-8c3e-c4499e136e7c",
   "metadata": {},
   "outputs": [
    {
     "name": "stderr",
     "output_type": "stream",
     "text": [
      "2024-11-27 20:43:06.371845: E tensorflow/compiler/xla/stream_executor/cuda/cuda_dnn.cc:9342] Unable to register cuDNN factory: Attempting to register factory for plugin cuDNN when one has already been registered\n",
      "2024-11-27 20:43:06.371917: E tensorflow/compiler/xla/stream_executor/cuda/cuda_fft.cc:609] Unable to register cuFFT factory: Attempting to register factory for plugin cuFFT when one has already been registered\n",
      "2024-11-27 20:43:06.371936: E tensorflow/compiler/xla/stream_executor/cuda/cuda_blas.cc:1518] Unable to register cuBLAS factory: Attempting to register factory for plugin cuBLAS when one has already been registered\n",
      "2024-11-27 20:43:06.382533: I tensorflow/core/platform/cpu_feature_guard.cc:182] This TensorFlow binary is optimized to use available CPU instructions in performance-critical operations.\n",
      "To enable the following instructions: SSE4.1 SSE4.2 AVX AVX2 FMA, in other operations, rebuild TensorFlow with the appropriate compiler flags.\n"
     ]
    }
   ],
   "source": [
    "\n",
    "import os.path as osp\n",
    "import subprocess\n",
    "import os\n",
    "from configs.constants import XMAGICAL_EMBODIMENT_TO_ENV_NAME\n",
    "\n",
    "from absl import app\n",
    "from absl import logging\n",
    "from configs.constants import ALGORITHMS\n",
    "from configs.constants import EMBODIMENTS\n",
    "from torchkit.experiment import string_from_kwargs\n",
    "from torchkit.experiment import unique_id\n",
    "import yaml\n",
    "import random\n"
   ]
  },
  {
   "cell_type": "code",
   "execution_count": 2,
   "id": "4d8a5323-194a-4d7c-861b-ae5fa4df4f67",
   "metadata": {},
   "outputs": [],
   "source": [
    "\n",
    "# pylint: disable=logging-fstring-interpolation\n",
    "\n",
    "# Mapping from pretraining algorithm to config file.\n",
    "ALGO_TO_CONFIG = {\n",
    "    \"xirl\": \"configs/xmagical/pretraining/tcc.py\",\n",
    "    \"lifs\": \"configs/xmagical/pretraining/lifs.py\",\n",
    "    \"tcn\": \"configs/xmagical/pretraining/tcn.py\",\n",
    "    \"goal_classifier\": \"configs/xmagical/pretraining/classifier.py\",\n",
    "    \"raw_imagenet\": \"configs/xmagical/pretraining/imagenet.py\",\n",
    "}\n"
   ]
  },
  {
   "cell_type": "code",
   "execution_count": 3,
   "id": "265c7d2b-92d3-4cc9-82d6-93171a86d76c",
   "metadata": {},
   "outputs": [
    {
     "name": "stdout",
     "output_type": "stream",
     "text": [
      "experiment name:  /home/user/xirl/exp/same_long\n"
     ]
    }
   ],
   "source": [
    "# We want to pretrain on the entire 1k demonstrations.\n",
    "MAX_DEMONSTRATIONS = -1\n",
    "# embodiment = None\n",
    "embodiment = \"longstick\"\n",
    "algo = \"xirl\"\n",
    "unique_name = True,\n",
    "random_number = random.randint(1, 1000)  # You can adjust the range as needed\n",
    "experiment_name = f\"/home/user/xirl/exp/exp{random_number}\"\n",
    "experiment_name = \"/home/user/xirl/exp/same_long\"\n",
    "\n",
    "# device = 'cpu'\n",
    "device = 'cuda:0'\n",
    "embodiments = EMBODIMENTS if embodiment is None else [embodiment]\n",
    "print(\"experiment name: \",experiment_name)"
   ]
  },
  {
   "cell_type": "code",
   "execution_count": 4,
   "id": "f4db380c-73c0-404b-a2a8-f27418c6c133",
   "metadata": {
    "scrolled": true
   },
   "outputs": [
    {
     "name": "stdout",
     "output_type": "stream",
     "text": [
      "embodiment:  longstick\n",
      "Start of experment\n",
      "\n"
     ]
    },
    {
     "name": "stderr",
     "output_type": "stream",
     "text": [
      "2024-11-27 20:43:12.889676: E tensorflow/compiler/xla/stream_executor/cuda/cuda_dnn.cc:9342] Unable to register cuDNN factory: Attempting to register factory for plugin cuDNN when one has already been registered\n",
      "2024-11-27 20:43:12.889745: E tensorflow/compiler/xla/stream_executor/cuda/cuda_fft.cc:609] Unable to register cuFFT factory: Attempting to register factory for plugin cuFFT when one has already been registered\n",
      "2024-11-27 20:43:12.889764: E tensorflow/compiler/xla/stream_executor/cuda/cuda_blas.cc:1518] Unable to register cuBLAS factory: Attempting to register factory for plugin cuBLAS when one has already been registered\n",
      "2024-11-27 20:43:12.899530: I tensorflow/core/platform/cpu_feature_guard.cc:182] This TensorFlow binary is optimized to use available CPU instructions in performance-critical operations.\n",
      "To enable the following instructions: SSE4.1 SSE4.2 AVX AVX2 FMA, in other operations, rebuild TensorFlow with the appropriate compiler flags.\n",
      "2024-11-27 20:43:18.339738: I tensorflow/compiler/xla/stream_executor/cuda/cuda_gpu_executor.cc:894] successful NUMA node read from SysFS had negative value (-1), but there must be at least one NUMA node, so returning NUMA node zero. See more at https://github.com/torvalds/linux/blob/v6.0/Documentation/ABI/testing/sysfs-bus-pci#L344-L355\n",
      "2024-11-27 20:43:18.387791: I tensorflow/compiler/xla/stream_executor/cuda/cuda_gpu_executor.cc:894] successful NUMA node read from SysFS had negative value (-1), but there must be at least one NUMA node, so returning NUMA node zero. See more at https://github.com/torvalds/linux/blob/v6.0/Documentation/ABI/testing/sysfs-bus-pci#L344-L355\n",
      "2024-11-27 20:43:18.388262: I tensorflow/compiler/xla/stream_executor/cuda/cuda_gpu_executor.cc:894] successful NUMA node read from SysFS had negative value (-1), but there must be at least one NUMA node, so returning NUMA node zero. See more at https://github.com/torvalds/linux/blob/v6.0/Documentation/ABI/testing/sysfs-bus-pci#L344-L355\n",
      "I1127 20:43:18.388654 139617416886080 pretrain.py:63] Pretrain started\n",
      "I1127 20:43:18.390228 139617416886080 pretrain.py:68] Setup experiment started\n",
      "Traceback (most recent call last):\n",
      "  File \"/home/user/xirl/pretrain.py\", line 183, in <module>\n",
      "    app.run(main)\n",
      "  File \"/home/user/mambaforge/envs/env/lib/python3.11/site-packages/absl/app.py\", line 308, in run\n",
      "    _run_main(main, args)\n",
      "  File \"/home/user/mambaforge/envs/env/lib/python3.11/site-packages/absl/app.py\", line 254, in _run_main\n",
      "    sys.exit(main(argv))\n",
      "             ^^^^^^^^^^\n",
      "  File \"/home/user/xirl/pretrain.py\", line 69, in main\n",
      "    setup_experiment(exp_dir, config, FLAGS.resume)\n",
      "  File \"/home/user/xirl/utils.py\", line 57, in setup_experiment\n",
      "    raise ValueError(\n",
      "ValueError: Experiment already exists. Run with --resume to continue.\n"
     ]
    },
    {
     "name": "stdout",
     "output_type": "stream",
     "text": [
      "Loading chipmunk for Linux (64bit) [/home/user/mambaforge/envs/env/lib/python3.11/site-packages/pymunk/libchipmunk.so]\n",
      "Error: None\n",
      "Return Code: 1\n"
     ]
    }
   ],
   "source": [
    "\n",
    "for embodiment in embodiments:\n",
    "    # Generate a unique experiment name.\n",
    "    print(\"embodiment: \",embodiment)\n",
    "    kwargs = {\n",
    "        \"dataset\": \"xmagical\",\n",
    "        \"mode\": \"cross\",\n",
    "        \"algo\": algo,\n",
    "        \"embodiment\": embodiment,\n",
    "    }\n",
    "    if unique_name:\n",
    "      kwargs[\"uid\"] = unique_id()\n",
    "    logging.info(\"Experiment name: %s\", experiment_name)\n",
    "    \n",
    "    # Train on all classes but the given embodiment.\n",
    "    trainable_embs = tuple(EMBODIMENTS - set([embodiment]))\n",
    "    try:\n",
    "        print(\"Start of experment\\n\")\n",
    "        subprocess.run(\n",
    "            [\n",
    "                \"python\",\n",
    "                \"pretrain.py\",\n",
    "                \"--device\",\n",
    "                device,\n",
    "                \"--experiment_name\",\n",
    "                experiment_name,\n",
    "                \"--raw_imagenet\" if algo == \"raw_imagenet\" else \" \",\n",
    "                \"--config\",\n",
    "                f\"{ALGO_TO_CONFIG[algo]}\",\n",
    "                \"--config.data.pretrain_action_class\",\n",
    "                f\"{repr(trainable_embs)}\",\n",
    "                \"--config.data.downstream_action_class\",\n",
    "                f\"{repr(trainable_embs)}\",\n",
    "                \"--config.data.max_vids_per_class\",\n",
    "                f\"{MAX_DEMONSTRATIONS}\",\n",
    "            ],\n",
    "            check=True,\n",
    "            # stdout=subprocess.PIPE,  # Capture standard output\n",
    "            # stderr=subprocess.PIPE,   # Capture standard error\n",
    "            text=True  \n",
    "        )\n",
    "        \n",
    "\n",
    "        # Note: This assumes that the config.root_dir value has not been\n",
    "        # changed to its default value of 'tmp/xirl/pretrain_runs/'.\n",
    "        exp_path = osp.join(\"/tmp/xirl/pretrain_runs/\", experiment_name)\n",
    "        # print(\"Output:\", result.stdout)\n",
    "        print(\"end of experment\\n\")\n",
    "    except subprocess.CalledProcessError as e:\n",
    "        print(\"Error:\", e.stderr)\n",
    "        print(\"Return Code:\", e.returncode)\n"
   ]
  },
  {
   "cell_type": "code",
   "execution_count": 5,
   "id": "84a94881-13a3-4dbd-91e5-eb5a3d78247f",
   "metadata": {
    "scrolled": true
   },
   "outputs": [
    {
     "name": "stderr",
     "output_type": "stream",
     "text": [
      "2024-11-27 20:43:23.664565: E tensorflow/compiler/xla/stream_executor/cuda/cuda_dnn.cc:9342] Unable to register cuDNN factory: Attempting to register factory for plugin cuDNN when one has already been registered\n",
      "2024-11-27 20:43:23.664631: E tensorflow/compiler/xla/stream_executor/cuda/cuda_fft.cc:609] Unable to register cuFFT factory: Attempting to register factory for plugin cuFFT when one has already been registered\n",
      "2024-11-27 20:43:23.664650: E tensorflow/compiler/xla/stream_executor/cuda/cuda_blas.cc:1518] Unable to register cuBLAS factory: Attempting to register factory for plugin cuBLAS when one has already been registered\n",
      "2024-11-27 20:43:23.674244: I tensorflow/core/platform/cpu_feature_guard.cc:182] This TensorFlow binary is optimized to use available CPU instructions in performance-critical operations.\n",
      "To enable the following instructions: SSE4.1 SSE4.2 AVX AVX2 FMA, in other operations, rebuild TensorFlow with the appropriate compiler flags.\n",
      "2024-11-27 20:43:29.029873: I tensorflow/compiler/xla/stream_executor/cuda/cuda_gpu_executor.cc:894] successful NUMA node read from SysFS had negative value (-1), but there must be at least one NUMA node, so returning NUMA node zero. See more at https://github.com/torvalds/linux/blob/v6.0/Documentation/ABI/testing/sysfs-bus-pci#L344-L355\n",
      "2024-11-27 20:43:29.078558: I tensorflow/compiler/xla/stream_executor/cuda/cuda_gpu_executor.cc:894] successful NUMA node read from SysFS had negative value (-1), but there must be at least one NUMA node, so returning NUMA node zero. See more at https://github.com/torvalds/linux/blob/v6.0/Documentation/ABI/testing/sysfs-bus-pci#L344-L355\n",
      "2024-11-27 20:43:29.078953: I tensorflow/compiler/xla/stream_executor/cuda/cuda_gpu_executor.cc:894] successful NUMA node read from SysFS had negative value (-1), but there must be at least one NUMA node, so returning NUMA node zero. See more at https://github.com/torvalds/linux/blob/v6.0/Documentation/ABI/testing/sysfs-bus-pci#L344-L355\n",
      "/home/user/mambaforge/envs/env/lib/python3.11/site-packages/torchvision/models/_utils.py:208: UserWarning: The parameter 'pretrained' is deprecated since 0.13 and may be removed in the future, please use 'weights' instead.\n",
      "  warnings.warn(\n",
      "/home/user/mambaforge/envs/env/lib/python3.11/site-packages/torchvision/models/_utils.py:223: UserWarning: Arguments other than a weight enum or `None` for 'weights' are deprecated since 0.13 and may be removed in the future. The current behavior is equivalent to passing `weights=ResNet18_Weights.IMAGENET1K_V1`. You can also use `weights=ResNet18_Weights.DEFAULT` to get the most up-to-date weights.\n",
      "  warnings.warn(msg)\n"
     ]
    },
    {
     "name": "stdout",
     "output_type": "stream",
     "text": [
      "Loading chipmunk for Linux (64bit) [/home/user/mambaforge/envs/env/lib/python3.11/site-packages/pymunk/libchipmunk.so]\n"
     ]
    },
    {
     "name": "stderr",
     "output_type": "stream",
     "text": [
      "Traceback (most recent call last):\n",
      "  File \"/home/user/xirl/compute_goal_embedding.py\", line 96, in <module>\n",
      "    app.run(main)\n",
      "  File \"/home/user/mambaforge/envs/env/lib/python3.11/site-packages/absl/app.py\", line 308, in run\n",
      "    _run_main(main, args)\n",
      "  File \"/home/user/mambaforge/envs/env/lib/python3.11/site-packages/absl/app.py\", line 254, in _run_main\n",
      "    sys.exit(main(argv))\n",
      "             ^^^^^^^^^^\n",
      "  File \"/home/user/xirl/compute_goal_embedding.py\", line 81, in main\n",
      "    model, downstream_loader = setup()\n",
      "                               ^^^^^^^\n",
      "  File \"/home/user/xirl/compute_goal_embedding.py\", line 65, in setup\n",
      "    downstream_loaders = common.get_downstream_dataloaders(config, False)[\"train\"]\n",
      "                         ^^^^^^^^^^^^^^^^^^^^^^^^^^^^^^^^^^^^^^^^^^^^^^^^\n",
      "  File \"/home/user/xirl/xirl/common.py\", line 95, in get_downstream_dataloaders\n",
      "    \"train\": _loader(\"train\"),\n",
      "             ^^^^^^^^^^^^^^^^\n",
      "  File \"/home/user/xirl/xirl/common.py\", line 80, in _loader\n",
      "    datasets = factory.dataset_from_config(config, True, split, debug)\n",
      "               ^^^^^^^^^^^^^^^^^^^^^^^^^^^^^^^^^^^^^^^^^^^^^^^^^^^^^^^\n",
      "  File \"/home/user/xirl/xirl/factory.py\", line 270, in dataset_from_config\n",
      "    single_class_dataset = VideoDataset(\n",
      "                           ^^^^^^^^^^^^^\n",
      "  File \"/home/user/xirl/xirl/dataset.py\", line 77, in __init__\n",
      "    dirs = get_subdirs(self._root_dir, nonempty=True, sort_lexicographical=True)\n",
      "           ^^^^^^^^^^^^^^^^^^^^^^^^^^^^^^^^^^^^^^^^^^^^^^^^^^^^^^^^^^^^^^^^^^^^^\n",
      "  File \"/home/user/xirl/xirl/file_utils.py\", line 46, in get_subdirs\n",
      "    subdirs = [f for f in pathlib.Path(d).iterdir() if f.is_dir()]\n",
      "              ^^^^^^^^^^^^^^^^^^^^^^^^^^^^^^^^^^^^^^^^^^^^^^^^^^^^\n",
      "  File \"/home/user/xirl/xirl/file_utils.py\", line 46, in <listcomp>\n",
      "    subdirs = [f for f in pathlib.Path(d).iterdir() if f.is_dir()]\n",
      "              ^^^^^^^^^^^^^^^^^^^^^^^^^^^^^^^^^^^^^^^^^^^^^^^^^^^^\n",
      "  File \"/home/user/mambaforge/envs/env/lib/python3.11/pathlib.py\", line 931, in iterdir\n",
      "    for name in os.listdir(self):\n",
      "                ^^^^^^^^^^^^^^^^\n",
      "FileNotFoundError: [Errno 2] No such file or directory: '/tmp/xirl/datasets/xmagical/train'\n"
     ]
    },
    {
     "ename": "CalledProcessError",
     "evalue": "Command '['python', 'compute_goal_embedding.py', '--experiment_path', '/home/user/xirl/exp/same_long']' returned non-zero exit status 1.",
     "output_type": "error",
     "traceback": [
      "\u001b[0;31m---------------------------------------------------------------------------\u001b[0m",
      "\u001b[0;31mCalledProcessError\u001b[0m                        Traceback (most recent call last)",
      "Cell \u001b[0;32mIn[5], line 4\u001b[0m\n\u001b[1;32m      1\u001b[0m \u001b[38;5;28;01mfor\u001b[39;00m embodiment \u001b[38;5;129;01min\u001b[39;00m embodiments:\n\u001b[1;32m      2\u001b[0m     \u001b[38;5;66;03m# The 'goal_classifier' baseline does not need to compute a goal embedding.\u001b[39;00m\n\u001b[1;32m      3\u001b[0m     \u001b[38;5;28;01mif\u001b[39;00m algo \u001b[38;5;241m!=\u001b[39m \u001b[38;5;124m\"\u001b[39m\u001b[38;5;124mgoal_classifier\u001b[39m\u001b[38;5;124m\"\u001b[39m:\n\u001b[0;32m----> 4\u001b[0m       \u001b[43msubprocess\u001b[49m\u001b[38;5;241;43m.\u001b[39;49m\u001b[43mrun\u001b[49m\u001b[43m(\u001b[49m\n\u001b[1;32m      5\u001b[0m \u001b[43m          \u001b[49m\u001b[43m[\u001b[49m\n\u001b[1;32m      6\u001b[0m \u001b[43m              \u001b[49m\u001b[38;5;124;43m\"\u001b[39;49m\u001b[38;5;124;43mpython\u001b[39;49m\u001b[38;5;124;43m\"\u001b[39;49m\u001b[43m,\u001b[49m\n\u001b[1;32m      7\u001b[0m \u001b[43m              \u001b[49m\u001b[38;5;124;43m\"\u001b[39;49m\u001b[38;5;124;43mcompute_goal_embedding.py\u001b[39;49m\u001b[38;5;124;43m\"\u001b[39;49m\u001b[43m,\u001b[49m\n\u001b[1;32m      8\u001b[0m \u001b[43m              \u001b[49m\u001b[38;5;124;43m\"\u001b[39;49m\u001b[38;5;124;43m--experiment_path\u001b[39;49m\u001b[38;5;124;43m\"\u001b[39;49m\u001b[43m,\u001b[49m\n\u001b[1;32m      9\u001b[0m \u001b[43m              \u001b[49m\u001b[43mexperiment_name\u001b[49m\u001b[43m,\u001b[49m\n\u001b[1;32m     10\u001b[0m \u001b[43m          \u001b[49m\u001b[43m]\u001b[49m\u001b[43m,\u001b[49m\n\u001b[1;32m     11\u001b[0m \u001b[43m          \u001b[49m\u001b[43mcheck\u001b[49m\u001b[38;5;241;43m=\u001b[39;49m\u001b[38;5;28;43;01mTrue\u001b[39;49;00m\u001b[43m,\u001b[49m\n\u001b[1;32m     12\u001b[0m \u001b[43m      \u001b[49m\u001b[43m)\u001b[49m\n",
      "File \u001b[0;32m~/mambaforge/envs/env/lib/python3.11/subprocess.py:571\u001b[0m, in \u001b[0;36mrun\u001b[0;34m(input, capture_output, timeout, check, *popenargs, **kwargs)\u001b[0m\n\u001b[1;32m    569\u001b[0m     retcode \u001b[38;5;241m=\u001b[39m process\u001b[38;5;241m.\u001b[39mpoll()\n\u001b[1;32m    570\u001b[0m     \u001b[38;5;28;01mif\u001b[39;00m check \u001b[38;5;129;01mand\u001b[39;00m retcode:\n\u001b[0;32m--> 571\u001b[0m         \u001b[38;5;28;01mraise\u001b[39;00m CalledProcessError(retcode, process\u001b[38;5;241m.\u001b[39margs,\n\u001b[1;32m    572\u001b[0m                                  output\u001b[38;5;241m=\u001b[39mstdout, stderr\u001b[38;5;241m=\u001b[39mstderr)\n\u001b[1;32m    573\u001b[0m \u001b[38;5;28;01mreturn\u001b[39;00m CompletedProcess(process\u001b[38;5;241m.\u001b[39margs, retcode, stdout, stderr)\n",
      "\u001b[0;31mCalledProcessError\u001b[0m: Command '['python', 'compute_goal_embedding.py', '--experiment_path', '/home/user/xirl/exp/same_long']' returned non-zero exit status 1."
     ]
    }
   ],
   "source": [
    "for embodiment in embodiments:\n",
    "    # The 'goal_classifier' baseline does not need to compute a goal embedding.\n",
    "    if algo != \"goal_classifier\":\n",
    "      subprocess.run(\n",
    "          [\n",
    "              \"python\",\n",
    "              \"compute_goal_embedding.py\",\n",
    "              \"--experiment_path\",\n",
    "              experiment_name,\n",
    "          ],\n",
    "          check=True,\n",
    "      )\n"
   ]
  },
  {
   "cell_type": "code",
   "execution_count": null,
   "id": "fc834215-cfe2-4c4b-a9f4-494d344995d7",
   "metadata": {},
   "outputs": [],
   "source": [
    "graph_data_path = f\"./data/{embodiment}/graphs/combined_graph.pt\"\n",
    "\n",
    "for embodiment in embodiments:\n",
    "    # The 'goal_classifier' baseline does not need to compute a goal embedding.\n",
    "    if algo != \"goal_classifier\":\n",
    "      subprocess.run(\n",
    "          [\n",
    "              \"python\",\n",
    "              \"compute_goal_embedding.py\",\n",
    "              \"--experiment_path\",\n",
    "              experiment_name,\n",
    "              \"--graph_data_path\",\n",
    "              graph_data_path\n",
    "          ],\n",
    "          check=True,\n",
    "      )\n",
    "    \n",
    "    # Dump experiment metadata as yaml file.\n",
    "    # with open(osp.join(experiment_name, \"metadata.yaml\"), \"w\") as fp:\n",
    "    #   yaml.dump(kwargs, fp)\n"
   ]
  },
  {
   "cell_type": "code",
   "execution_count": null,
   "id": "77aa1c77-e0ad-4b14-a2f8-f48f730f1eef",
   "metadata": {},
   "outputs": [],
   "source": [
    "import utils\n",
    "\n",
    "self_supervised_emb = utils.load_pickle(experiment_name, \"self_supervised_emb.pkl\")\n",
    "self_supervised_distance_scale = utils.load_pickle(experiment_name, \"self_supervised_distance_scale.pkl\")\n",
    "# gnn_emb = utils.load_pickle(experiment_name, \"gnn_emb.pkl\")\n",
    "# gnn_distance_scale = utils.load_pickle(experiment_name, \"gnn_distance_scale.pkl\")\n",
    "print(self_supervised_emb, self_supervised_distance_scale)\n"
   ]
  },
  {
   "cell_type": "code",
   "execution_count": null,
   "id": "a73066b6-86b7-41f3-94d4-0e1a7697ca1c",
   "metadata": {},
   "outputs": [],
   "source": [
    "print(self_supervised_emb)\n"
   ]
  },
  {
   "cell_type": "code",
   "execution_count": null,
   "id": "629ae360-2977-40d1-bc80-1466db9311f1",
   "metadata": {},
   "outputs": [],
   "source": [
    "print(gnn_emb)"
   ]
  },
  {
   "cell_type": "code",
   "execution_count": null,
   "id": "fb140374-5fcf-4b51-84e5-21b8482903e1",
   "metadata": {},
   "outputs": [],
   "source": []
  }
 ],
 "metadata": {
  "kernelspec": {
   "display_name": "Python 3 (ipykernel)",
   "language": "python",
   "name": "python3"
  },
  "language_info": {
   "codemirror_mode": {
    "name": "ipython",
    "version": 3
   },
   "file_extension": ".py",
   "mimetype": "text/x-python",
   "name": "python",
   "nbconvert_exporter": "python",
   "pygments_lexer": "ipython3",
   "version": "3.11.9"
  },
  "widgets": {
   "application/vnd.jupyter.widget-state+json": {
    "state": {},
    "version_major": 2,
    "version_minor": 0
   }
  }
 },
 "nbformat": 4,
 "nbformat_minor": 5
}
